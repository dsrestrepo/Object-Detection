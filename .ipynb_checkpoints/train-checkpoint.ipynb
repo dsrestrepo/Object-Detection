{
 "cells": [
  {
   "cell_type": "code",
   "execution_count": 1,
   "id": "c846f6c9",
   "metadata": {},
   "outputs": [],
   "source": [
    "# Clone model\n",
    "#!git clone https://github.com/fizyr/keras-retinanet"
   ]
  },
  {
   "cell_type": "code",
   "execution_count": null,
   "id": "26e31a25",
   "metadata": {},
   "outputs": [],
   "source": [
    "#!pip uninstall keras -y\n",
    "#!pip uninstall keras-nightly -y\n",
    "#!pip uninstall keras-Preprocessing -y\n",
    "#!pip uninstall keras-vis -y\n",
    "#!pip uninstall tensorflow -y\n",
    "#!pip uninstall h5py\n",
    "\n",
    "#!conda install tensorflow\n",
    "#!pip install keras==2.3.1\n",
    "#!pip install h5py"
   ]
  },
  {
   "cell_type": "code",
   "execution_count": 3,
   "id": "7fb0b16f",
   "metadata": {},
   "outputs": [
    {
     "name": "stdout",
     "output_type": "stream",
     "text": [
      "/Users/davidrestrepo/Object Detection/object_detection/HandDetectRetinaNet/keras-retinanet\n",
      "LICENSE              \u001b[34mexamples\u001b[m\u001b[m             setup.py\r\n",
      "annotations.csv      hand_detection.h5    \u001b[34msnapshots\u001b[m\u001b[m\r\n",
      "annotations_test.csv \u001b[34mimages\u001b[m\u001b[m               \u001b[34mtests\u001b[m\u001b[m\r\n",
      "\u001b[34mbuild\u001b[m\u001b[m                \u001b[34mkeras_retinanet\u001b[m\u001b[m\r\n",
      "classes.csv          setup.cfg\r\n"
     ]
    }
   ],
   "source": [
    "# Go to retinanet folder\n",
    "%cd ./keras-retinanet/\n",
    "!ls"
   ]
  },
  {
   "cell_type": "code",
   "execution_count": 4,
   "id": "61ba0d51",
   "metadata": {},
   "outputs": [
    {
     "name": "stdout",
     "output_type": "stream",
     "text": [
      "/Users/davidrestrepo/miniforge3/envs/object_detection/lib/python3.9/site-packages/setuptools/installer.py:27: SetuptoolsDeprecationWarning: setuptools.installer is deprecated. Requirements should be satisfied by a PEP 517 installer.\n",
      "  warnings.warn(\n",
      "running build_ext\n",
      "skipping 'keras_retinanet/utils/compute_overlap.c' Cython extension (up-to-date)\n",
      "copying build/lib.macosx-11.1-arm64-3.9/keras_retinanet/utils/compute_overlap.cpython-39-darwin.so -> keras_retinanet/utils\n"
     ]
    }
   ],
   "source": [
    "# Setup enviorment\n",
    "!python setup.py build_ext --inplace"
   ]
  },
  {
   "cell_type": "code",
   "execution_count": 5,
   "id": "b59ed772",
   "metadata": {},
   "outputs": [],
   "source": [
    "# Copy the files from for training\n",
    "!cp -r \"../images\" .\n",
    "!cp -r \"../annotations.csv\" .\n",
    "!cp -r \"../annotations_test.csv\" .\n",
    "!cp -r \"../classes.csv\" ."
   ]
  },
  {
   "cell_type": "markdown",
   "id": "dec4f377",
   "metadata": {},
   "source": [
    "# Import libraries"
   ]
  },
  {
   "cell_type": "code",
   "execution_count": 6,
   "id": "1ee0515c",
   "metadata": {},
   "outputs": [
    {
     "name": "stdout",
     "output_type": "stream",
     "text": [
      "Requirement already satisfied: seaborn in /Users/davidrestrepo/miniforge3/envs/object_detection/lib/python3.9/site-packages (0.11.2)\n",
      "Requirement already satisfied: pandas>=0.23 in /Users/davidrestrepo/miniforge3/envs/object_detection/lib/python3.9/site-packages (from seaborn) (1.4.2)\n",
      "Requirement already satisfied: numpy>=1.15 in /Users/davidrestrepo/miniforge3/envs/object_detection/lib/python3.9/site-packages (from seaborn) (1.21.5)\n",
      "Requirement already satisfied: scipy>=1.0 in /Users/davidrestrepo/miniforge3/envs/object_detection/lib/python3.9/site-packages (from seaborn) (1.8.0)\n",
      "Requirement already satisfied: matplotlib>=2.2 in /Users/davidrestrepo/miniforge3/envs/object_detection/lib/python3.9/site-packages (from seaborn) (3.5.1)\n",
      "Requirement already satisfied: kiwisolver>=1.0.1 in /Users/davidrestrepo/miniforge3/envs/object_detection/lib/python3.9/site-packages (from matplotlib>=2.2->seaborn) (1.4.2)\n",
      "Requirement already satisfied: cycler>=0.10 in /Users/davidrestrepo/miniforge3/envs/object_detection/lib/python3.9/site-packages (from matplotlib>=2.2->seaborn) (0.11.0)\n",
      "Requirement already satisfied: packaging>=20.0 in /Users/davidrestrepo/miniforge3/envs/object_detection/lib/python3.9/site-packages (from matplotlib>=2.2->seaborn) (21.3)\n",
      "Requirement already satisfied: fonttools>=4.22.0 in /Users/davidrestrepo/miniforge3/envs/object_detection/lib/python3.9/site-packages (from matplotlib>=2.2->seaborn) (4.32.0)\n",
      "Requirement already satisfied: pyparsing>=2.2.1 in /Users/davidrestrepo/miniforge3/envs/object_detection/lib/python3.9/site-packages (from matplotlib>=2.2->seaborn) (3.0.4)\n",
      "Requirement already satisfied: python-dateutil>=2.7 in /Users/davidrestrepo/miniforge3/envs/object_detection/lib/python3.9/site-packages (from matplotlib>=2.2->seaborn) (2.8.2)\n",
      "Requirement already satisfied: pillow>=6.2.0 in /Users/davidrestrepo/miniforge3/envs/object_detection/lib/python3.9/site-packages (from matplotlib>=2.2->seaborn) (9.1.0)\n",
      "Requirement already satisfied: pytz>=2020.1 in /Users/davidrestrepo/miniforge3/envs/object_detection/lib/python3.9/site-packages (from pandas>=0.23->seaborn) (2022.1)\n",
      "Requirement already satisfied: six>=1.5 in /Users/davidrestrepo/miniforge3/envs/object_detection/lib/python3.9/site-packages (from python-dateutil>=2.7->matplotlib>=2.2->seaborn) (1.15.0)\n"
     ]
    }
   ],
   "source": [
    "! pip install seaborn"
   ]
  },
  {
   "cell_type": "code",
   "execution_count": 7,
   "id": "538e2dd7",
   "metadata": {},
   "outputs": [],
   "source": [
    "import numpy as np\n",
    "import pandas as pd\n",
    "import seaborn as sns\n",
    "from pylab import rcParams\n",
    "import matplotlib.pyplot as plt\n",
    "from matplotlib import rc\n",
    "from pandas.plotting import register_matplotlib_converters\n",
    "from sklearn.model_selection import train_test_split\n",
    "import urllib\n",
    "import os\n",
    "import csv\n",
    "import cv2\n",
    "import time\n",
    "from PIL import Image"
   ]
  },
  {
   "cell_type": "code",
   "execution_count": 8,
   "id": "5db369b2",
   "metadata": {},
   "outputs": [],
   "source": [
    "from tensorflow.keras.models import load_model\n",
    "from keras_retinanet import models\n",
    "from keras_retinanet.utils.image import read_image_bgr, preprocess_image, resize_image\n",
    "from keras_retinanet.utils.visualization import draw_box, draw_caption\n",
    "from keras_retinanet.utils.colors import label_color"
   ]
  },
  {
   "cell_type": "markdown",
   "id": "d0f089bb",
   "metadata": {},
   "source": [
    "# Download coco model"
   ]
  },
  {
   "cell_type": "code",
   "execution_count": 9,
   "id": "d19ef72e",
   "metadata": {},
   "outputs": [
    {
     "data": {
      "text/plain": [
       "('./snapshots/model.h5', <http.client.HTTPMessage at 0x289e52bb0>)"
      ]
     },
     "execution_count": 9,
     "metadata": {},
     "output_type": "execute_result"
    }
   ],
   "source": [
    "URL_MODEL = 'https://github.com/fizyr/keras-retinanet/releases/download/0.5.1/resnet50_coco_best_v2.1.0.h5'\n",
    "urllib.request.urlretrieve(URL_MODEL, './snapshots/model.h5')"
   ]
  },
  {
   "cell_type": "markdown",
   "id": "ca81bdcf",
   "metadata": {},
   "source": [
    "# Train model"
   ]
  },
  {
   "cell_type": "code",
   "execution_count": 12,
   "id": "1e0ec37c",
   "metadata": {},
   "outputs": [
    {
     "name": "stdout",
     "output_type": "stream",
     "text": [
      "Requirement already satisfied: progressbar2 in /Users/davidrestrepo/miniforge3/envs/object_detection/lib/python3.9/site-packages (4.0.0)\n",
      "Requirement already satisfied: python-utils>=3.0.0 in /Users/davidrestrepo/miniforge3/envs/object_detection/lib/python3.9/site-packages (from progressbar2) (3.1.0)\n",
      "Collecting keras-resnet\n",
      "  Downloading keras-resnet-0.2.0.tar.gz (9.3 kB)\n",
      "Requirement already satisfied: keras>=2.2.4 in /Users/davidrestrepo/miniforge3/envs/object_detection/lib/python3.9/site-packages (from keras-resnet) (2.8.0)\n",
      "Building wheels for collected packages: keras-resnet\n",
      "  Building wheel for keras-resnet (setup.py) ... \u001b[?25ldone\n",
      "\u001b[?25h  Created wheel for keras-resnet: filename=keras_resnet-0.2.0-py2.py3-none-any.whl size=20486 sha256=2e337a730ef6fd664244e190052b565b6e03143aeb36c5dfeb1d59f50839f259\n",
      "  Stored in directory: /Users/davidrestrepo/Library/Caches/pip/wheels/53/ed/ef/144804f160c278c80d6429c97ed126b61276721894ce64cccc\n",
      "Successfully built keras-resnet\n",
      "Installing collected packages: keras-resnet\n",
      "Successfully installed keras-resnet-0.2.0\n"
     ]
    }
   ],
   "source": [
    "! pip install progressbar2\n",
    "!pip install keras-resnet"
   ]
  },
  {
   "cell_type": "code",
   "execution_count": 18,
   "id": "b1b7b9d3",
   "metadata": {
    "scrolled": true
   },
   "outputs": [
    {
     "name": "stdout",
     "output_type": "stream",
     "text": [
      "Using TensorFlow backend.\n",
      "Traceback (most recent call last):\n",
      "  File \"/Users/davidrestrepo/Object Detection/object_detection/HandDetectRetinaNet/keras-retinanet/keras_retinanet/bin/train.py\", line 24, in <module>\n",
      "    import keras\n",
      "  File \"/Users/davidrestrepo/miniforge3/envs/object_detection/lib/python3.9/site-packages/keras/__init__.py\", line 3, in <module>\n",
      "    from . import utils\n",
      "  File \"/Users/davidrestrepo/miniforge3/envs/object_detection/lib/python3.9/site-packages/keras/utils/__init__.py\", line 26, in <module>\n",
      "    from .vis_utils import model_to_dot\n",
      "  File \"/Users/davidrestrepo/miniforge3/envs/object_detection/lib/python3.9/site-packages/keras/utils/vis_utils.py\", line 7, in <module>\n",
      "    from ..models import Model\n",
      "  File \"/Users/davidrestrepo/miniforge3/envs/object_detection/lib/python3.9/site-packages/keras/models.py\", line 10, in <module>\n",
      "    from .engine.input_layer import Input\n",
      "  File \"/Users/davidrestrepo/miniforge3/envs/object_detection/lib/python3.9/site-packages/keras/engine/__init__.py\", line 8, in <module>\n",
      "    from .training import Model\n",
      "  File \"/Users/davidrestrepo/miniforge3/envs/object_detection/lib/python3.9/site-packages/keras/engine/training.py\", line 14, in <module>\n",
      "    from . import training_utils\n",
      "  File \"/Users/davidrestrepo/miniforge3/envs/object_detection/lib/python3.9/site-packages/keras/engine/training_utils.py\", line 17, in <module>\n",
      "    from .. import metrics as metrics_module\n",
      "  File \"/Users/davidrestrepo/miniforge3/envs/object_detection/lib/python3.9/site-packages/keras/metrics.py\", line 1850, in <module>\n",
      "    BaseMeanIoU = tf.keras.metrics.MeanIoU\n",
      "  File \"/Users/davidrestrepo/miniforge3/envs/object_detection/lib/python3.9/site-packages/tensorflow/python/util/lazy_loader.py\", line 58, in __getattr__\n",
      "    module = self._load()\n",
      "  File \"/Users/davidrestrepo/miniforge3/envs/object_detection/lib/python3.9/site-packages/tensorflow/python/util/lazy_loader.py\", line 41, in _load\n",
      "    module = importlib.import_module(self.__name__)\n",
      "  File \"/Users/davidrestrepo/miniforge3/envs/object_detection/lib/python3.9/importlib/__init__.py\", line 127, in import_module\n",
      "    return _bootstrap._gcd_import(name[level:], package, level)\n",
      "ModuleNotFoundError: No module named 'keras.api'\n"
     ]
    }
   ],
   "source": [
    "!chmod 777 keras_retinanet/bin/*\n",
    "!keras_retinanet/bin/train.py --freeze-backbone --random-transform --weights snapshots/model.h5 --batch-size 8 --steps 150 --epochs 20 csv annotations.csv classes.csv"
   ]
  },
  {
   "cell_type": "code",
   "execution_count": 11,
   "id": "57f75bb5",
   "metadata": {},
   "outputs": [
    {
     "name": "stdout",
     "output_type": "stream",
     "text": [
      "LICENSE              \u001b[34mexamples\u001b[m\u001b[m             setup.py\r\n",
      "annotations.csv      hand_detection.h5    \u001b[34msnapshots\u001b[m\u001b[m\r\n",
      "annotations_test.csv \u001b[34mimages\u001b[m\u001b[m               \u001b[34mtests\u001b[m\u001b[m\r\n",
      "\u001b[34mbuild\u001b[m\u001b[m                \u001b[34mkeras_retinanet\u001b[m\u001b[m\r\n",
      "classes.csv          setup.cfg\r\n"
     ]
    }
   ],
   "source": [
    "!ls"
   ]
  },
  {
   "cell_type": "code",
   "execution_count": null,
   "id": "a55c8f50",
   "metadata": {},
   "outputs": [],
   "source": []
  },
  {
   "cell_type": "code",
   "execution_count": null,
   "id": "d9e72d65",
   "metadata": {},
   "outputs": [],
   "source": []
  }
 ],
 "metadata": {
  "kernelspec": {
   "display_name": "Python 3 (ipykernel)",
   "language": "python",
   "name": "python3"
  },
  "language_info": {
   "codemirror_mode": {
    "name": "ipython",
    "version": 3
   },
   "file_extension": ".py",
   "mimetype": "text/x-python",
   "name": "python",
   "nbconvert_exporter": "python",
   "pygments_lexer": "ipython3",
   "version": "3.9.12"
  }
 },
 "nbformat": 4,
 "nbformat_minor": 5
}
