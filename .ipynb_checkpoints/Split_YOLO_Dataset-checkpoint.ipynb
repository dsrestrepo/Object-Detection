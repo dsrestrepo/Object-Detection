{
 "cells": [
  {
   "cell_type": "code",
   "execution_count": 1,
   "id": "f78fca52",
   "metadata": {},
   "outputs": [],
   "source": [
    "import numpy as np\n",
    "import os\n",
    "import shutil\n",
    "from sklearn.model_selection import train_test_split"
   ]
  },
  {
   "cell_type": "code",
   "execution_count": 2,
   "id": "b278de5a",
   "metadata": {},
   "outputs": [],
   "source": [
    "# Path to images and labels\n",
    "images_path = 'YOLO_Dataset/YOLO_Images/'\n",
    "labels_path = 'YOLO_Dataset/YOLO_Labels/'"
   ]
  },
  {
   "cell_type": "code",
   "execution_count": 3,
   "id": "0a55deb9",
   "metadata": {},
   "outputs": [],
   "source": [
    "# List of images and labels\n",
    "list_images = os.listdir(images_path)\n",
    "list_labels = os.listdir(labels_path)"
   ]
  },
  {
   "cell_type": "code",
   "execution_count": 4,
   "id": "834b630f",
   "metadata": {},
   "outputs": [],
   "source": [
    "# Check images\n",
    "def chek_list(images, labels):\n",
    "    \n",
    "    images_names = []\n",
    "    labels_names = []\n",
    "    \n",
    "    for image_name in images:\n",
    "        if image_name == '':\n",
    "            continue\n",
    "        images_names.append(image_name.split('.')[0])\n",
    "        \n",
    "    for label_name in labels:\n",
    "        if label_name == '' or label_name == 'classes':\n",
    "            continue\n",
    "        labels_names.append(label_name.split('.')[0])\n",
    "    \n",
    "    # Check if are the same: \n",
    "    if (set(images_names) == set(labels_names)):\n",
    "        print(f'images and labels are the same')\n",
    "    elif (len(images_names) > len(labels_names)):\n",
    "        print(f\"Images folder has {set(images_names) - set(labels_names)} that doesn't have label\")\n",
    "    elif (len(labels_names) > len(images_names)):\n",
    "        print(f\"Labels folder has {set(labels_names) - set(images_names)} that doesn't have image\")\n",
    "    else:\n",
    "        print(f\"Images folder has {set(images_names) - set(labels_names)} that doesn't have label\")\n",
    "        print(f\"Labels folder has {set(labels_names) - set(images_names)} that doesn't have image\")\n",
    "    \n",
    "    return images_names, labels_names"
   ]
  },
  {
   "cell_type": "code",
   "execution_count": 5,
   "id": "6f12091e",
   "metadata": {},
   "outputs": [],
   "source": [
    "def split_list(filenames, test_size = 0.30, random_state=1):\n",
    "    filenames_train, filenames_test = train_test_split(filenames, test_size=test_size, random_state=random_state)\n",
    "    print(f'The train size is: {len(filenames_train)}')\n",
    "    print(f'The test size is: {len(filenames_test)}')\n",
    "    \n",
    "    return filenames_train, filenames_test"
   ]
  },
  {
   "cell_type": "code",
   "execution_count": 6,
   "id": "fbae4036",
   "metadata": {},
   "outputs": [],
   "source": [
    "def split_dataset(out_dir, list_files, images_path, labels_path):\n",
    "    \n",
    "    images_out_path = os.path.join(out_dir, 'images')\n",
    "    \n",
    "    labels_out_path = os.path.join(out_dir, 'labels')\n",
    "    \n",
    "    # Create images dir if not exist\n",
    "    if not os.path.exists(images_out_path):\n",
    "        os.makedirs(os.path.join(images_out_path, 'train'))\n",
    "        os.makedirs(os.path.join(images_out_path, 'test'))\n",
    "    \n",
    "    # Create labels_dir if not exist\n",
    "    if not os.path.exists(labels_out_path):\n",
    "        os.makedirs(os.path.join(labels_out_path, 'train'))\n",
    "        os.makedirs(os.path.join(labels_out_path, 'test'))\n",
    "    \n",
    "    # Split list\n",
    "    list_train, list_test = split_list(list_files)\n",
    "    \n",
    "    # Move items to train dir\n",
    "    for file in list_train:\n",
    "        # Get path to files\n",
    "        image_path = os.path.join(images_path, file + '.png')\n",
    "        label_path = os.path.join(labels_path, file + '.txt')\n",
    "        # Check image and label\n",
    "        if os.path.isfile(image_path) and os.path.isfile(label_path):\n",
    "            shutil.copy(image_path, os.path.join(images_out_path, 'train'))\n",
    "            shutil.copy(label_path, os.path.join(labels_out_path, 'train'))\n",
    "        else:\n",
    "            print('file does not exist', image_path)\n",
    "            \n",
    "    # Move items to train dir\n",
    "    for file in list_test:\n",
    "        # Get path to files\n",
    "        image_path = os.path.join(images_path, file + '.png')\n",
    "        label_path = os.path.join(labels_path, file + '.txt')\n",
    "        # Check image and label\n",
    "        if os.path.isfile(image_path) and os.path.isfile(label_path):\n",
    "            shutil.copy(image_path, os.path.join(images_out_path, 'test'))\n",
    "            shutil.copy(label_path, os.path.join(labels_out_path, 'test'))\n",
    "        else:\n",
    "            print('file does not exist', image_path)"
   ]
  },
  {
   "cell_type": "code",
   "execution_count": 7,
   "id": "53039e84",
   "metadata": {},
   "outputs": [
    {
     "name": "stdout",
     "output_type": "stream",
     "text": [
      "Labels folder has {'', 'classes'} that doesn't have image\n"
     ]
    }
   ],
   "source": [
    "list_images, list_labels = chek_list(list_images, list_labels)"
   ]
  },
  {
   "cell_type": "code",
   "execution_count": 8,
   "id": "020c302f",
   "metadata": {},
   "outputs": [
    {
     "name": "stdout",
     "output_type": "stream",
     "text": [
      "The train size is: 163\n",
      "The test size is: 70\n"
     ]
    }
   ],
   "source": [
    "out_dir = 'YOLO_FInal_data'\n",
    "\n",
    "split_dataset(out_dir, list_images, images_path, labels_path)"
   ]
  },
  {
   "cell_type": "markdown",
   "id": "6fecd30e",
   "metadata": {},
   "source": [
    "# Create yaml file"
   ]
  },
  {
   "cell_type": "markdown",
   "id": "9acd2a9b",
   "metadata": {},
   "source": [
    "### Get classes"
   ]
  },
  {
   "cell_type": "code",
   "execution_count": 24,
   "id": "6fe0cf9d",
   "metadata": {},
   "outputs": [
    {
     "name": "stdout",
     "output_type": "stream",
     "text": [
      "['dog', 'person', 'cat', 'tv', 'car', 'meatballs', 'marinara sauce', 'tomato soup', 'chicken noodle soup', 'french onion soup', 'chicken breast', 'ribs', 'pulled pork', 'hamburger', 'cavity', 'left', 'right']\n"
     ]
    }
   ],
   "source": [
    "\n",
    "classes = []\n",
    "\n",
    "with open(classes_path, 'r') as file:\n",
    "    \n",
    "    for class_name in file.readlines():\n",
    "          classes.append(class_name.rstrip('\\n').strip())\n",
    "\n",
    "print(classes)"
   ]
  },
  {
   "cell_type": "markdown",
   "id": "ea619d25",
   "metadata": {},
   "source": [
    "### Create yaml"
   ]
  },
  {
   "cell_type": "code",
   "execution_count": 85,
   "id": "7f1bf7df",
   "metadata": {},
   "outputs": [],
   "source": [
    "import yaml\n",
    "\n",
    "def create_yaml(yaml_dir, dataset_path, classes):\n",
    "\n",
    "    \n",
    "    yaml_file = dict(\n",
    "        # dataset root dir\n",
    "        path = '../' + dataset_path,\n",
    "        # Train and validation from root\n",
    "        train = '../' + dataset_path + '/images/train/',\n",
    "        val = '../' + dataset_path + '/images/test/',        \n",
    "        # test images (optional)\n",
    "        test =  '',\n",
    "\n",
    "        # Classes\n",
    "        # Number of classes\n",
    "        nc = len(classes),\n",
    "        # List of Classes\n",
    "        names = classes\n",
    "    )\n",
    "    \n",
    "    print('replace the list of classes with the one printed below: ')\n",
    "    print(classes)\n",
    "    # Create yaml file\n",
    "    with open(yaml_dir, 'w') as outfile:\n",
    "        yaml.dump(yaml_file, outfile, default_flow_style=None)\n",
    "        print('')\n",
    "        print('yaml created!')\n",
    "        \n",
    "    print('Now move the file to yolov5/data')"
   ]
  },
  {
   "cell_type": "code",
   "execution_count": 86,
   "id": "d11a5f8c",
   "metadata": {},
   "outputs": [
    {
     "name": "stdout",
     "output_type": "stream",
     "text": [
      "replace the list of classes with the one printed below: \n",
      "['dog', 'person', 'cat', 'tv', 'car', 'meatballs', 'marinara sauce', 'tomato soup', 'chicken noodle soup', 'french onion soup', 'chicken breast', 'ribs', 'pulled pork', 'hamburger', 'cavity', 'left', 'right']\n",
      "\n",
      "yaml created!\n",
      "Now move the file to yolov5/data\n"
     ]
    }
   ],
   "source": [
    "yaml_dir = 'YOLO_Dataset/dataset.yaml'\n",
    "out_dir = 'YOLO_FInal_data'\n",
    "\n",
    "create_yaml(yaml_dir, out_dir, classes)"
   ]
  },
  {
   "cell_type": "code",
   "execution_count": null,
   "id": "6245cff8",
   "metadata": {},
   "outputs": [],
   "source": []
  },
  {
   "cell_type": "code",
   "execution_count": null,
   "id": "818dd8b0",
   "metadata": {},
   "outputs": [],
   "source": []
  },
  {
   "cell_type": "code",
   "execution_count": null,
   "id": "ccdd8fe4",
   "metadata": {},
   "outputs": [],
   "source": []
  },
  {
   "cell_type": "code",
   "execution_count": null,
   "id": "2130bfa1",
   "metadata": {},
   "outputs": [],
   "source": []
  },
  {
   "cell_type": "code",
   "execution_count": null,
   "id": "067f0c55",
   "metadata": {},
   "outputs": [],
   "source": []
  }
 ],
 "metadata": {
  "kernelspec": {
   "display_name": "Python 3 (ipykernel)",
   "language": "python",
   "name": "python3"
  },
  "language_info": {
   "codemirror_mode": {
    "name": "ipython",
    "version": 3
   },
   "file_extension": ".py",
   "mimetype": "text/x-python",
   "name": "python",
   "nbconvert_exporter": "python",
   "pygments_lexer": "ipython3",
   "version": "3.9.12"
  }
 },
 "nbformat": 4,
 "nbformat_minor": 5
}
