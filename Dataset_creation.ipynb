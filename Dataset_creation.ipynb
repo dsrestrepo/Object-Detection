{
 "cells": [
  {
   "cell_type": "code",
   "execution_count": 2,
   "id": "4d8f0be1",
   "metadata": {},
   "outputs": [
    {
     "name": "stdout",
     "output_type": "stream",
     "text": [
      "Collecting opencv-python\n",
      "  Downloading opencv_python-4.5.5.64-cp37-abi3-macosx_11_0_arm64.whl (29.9 MB)\n",
      "\u001b[K     |████████████████████████████████| 29.9 MB 2.2 MB/s eta 0:00:01\n",
      "\u001b[?25hRequirement already satisfied: numpy>=1.21.2 in /Users/davidrestrepo/miniforge3/envs/object_detection/lib/python3.9/site-packages (from opencv-python) (1.21.5)\n",
      "Installing collected packages: opencv-python\n",
      "Successfully installed opencv-python-4.5.5.64\n"
     ]
    }
   ],
   "source": [
    "!pip install opencv-python"
   ]
  },
  {
   "cell_type": "code",
   "execution_count": 10,
   "id": "001b13ac",
   "metadata": {},
   "outputs": [],
   "source": [
    "# get the reference to the webcam\n",
    "import cv2"
   ]
  },
  {
   "cell_type": "markdown",
   "id": "392ed5fd",
   "metadata": {},
   "source": [
    "# get the reference to the webcam"
   ]
  },
  {
   "cell_type": "code",
   "execution_count": 11,
   "id": "66c5e73b",
   "metadata": {},
   "outputs": [
    {
     "name": "stdout",
     "output_type": "stream",
     "text": [
      "frame saved\n",
      "frame saved\n",
      "frame saved\n",
      "frame saved\n",
      "frame saved\n",
      "frame saved\n",
      "frame saved\n",
      "frame saved\n",
      "frame saved\n",
      "frame saved\n"
     ]
    }
   ],
   "source": [
    "camera = cv2.VideoCapture(0)\n",
    "imagesList = []\n",
    "\n",
    "\n",
    "while(True):\n",
    "   \n",
    "    _, frame = camera.read()\n",
    "    \n",
    "    cv2.imshow(\"Camera\", frame)\n",
    "\n",
    "    key = cv2.waitKey(1)\n",
    "\n",
    "    if key & 0xFF == ord(\"q\"):\n",
    "        break\n",
    "    elif key & 0xFF == ord(\"1\"):\n",
    "        imagesList.append(frame)\n",
    "        print('frame saved')\n",
    "\n",
    "camera.release()\n",
    "cv2.destroyAllWindows()"
   ]
  },
  {
   "cell_type": "markdown",
   "id": "d7c63ad2",
   "metadata": {},
   "source": [
    "# Save the Images"
   ]
  },
  {
   "cell_type": "code",
   "execution_count": 12,
   "id": "086fd9d6",
   "metadata": {},
   "outputs": [],
   "source": [
    "for i, img in enumerate(imagesList):\n",
    "    \n",
    "    image = cv2.cvtColor(img, cv2.COLOR_RGB2BGR)\n",
    "\n",
    "    image = cv2.resize(image, (224, 224))\n",
    "    \n",
    "    cv2.imwrite('./images/{}.png'.format(i), cv2.cvtColor(image,cv2.COLOR_BGR2RGB))\n"
   ]
  },
  {
   "cell_type": "code",
   "execution_count": null,
   "id": "f1cfe960",
   "metadata": {},
   "outputs": [],
   "source": []
  }
 ],
 "metadata": {
  "kernelspec": {
   "display_name": "Python 3 (ipykernel)",
   "language": "python",
   "name": "python3"
  },
  "language_info": {
   "codemirror_mode": {
    "name": "ipython",
    "version": 3
   },
   "file_extension": ".py",
   "mimetype": "text/x-python",
   "name": "python",
   "nbconvert_exporter": "python",
   "pygments_lexer": "ipython3",
   "version": "3.9.12"
  }
 },
 "nbformat": 4,
 "nbformat_minor": 5
}
